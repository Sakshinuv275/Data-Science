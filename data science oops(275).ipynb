{
 "cells": [
  {
   "cell_type": "code",
   "execution_count": 1,
   "id": "9c05769c-287e-41d3-bdbd-881ff2754380",
   "metadata": {},
   "outputs": [
    {
     "name": "stdin",
     "output_type": "stream",
     "text": [
      "Enter Roll No:  22000275\n",
      "Enter Student Name:  sakshi shah\n",
      "Enter Physics Marks (out of 100):  77\n",
      "Enter Chemistry Marks (out of 100):  56\n",
      "Enter Maths Marks (out of 100):  84\n"
     ]
    },
    {
     "name": "stdout",
     "output_type": "stream",
     "text": [
      "\n",
      "Student Details:\n",
      "Roll No: 22000275\n",
      "Name: sakshi shah\n",
      "\n",
      "Subject-wise Marks:\n",
      "Physics: 77.0\n",
      "Chemistry: 56.0\n",
      "Maths: 84.0\n",
      "\n",
      "Total Marks: 217.0\n",
      "Percentage: 72.33333333333334\n",
      "Status: PASS\n",
      "Grade: DISTINCTION\n"
     ]
    }
   ],
   "source": [
    "def grade(per):\n",
    "    if per > 70:\n",
    "        return \"DISTINCTION\"\n",
    "    elif per > 60:\n",
    "        return \"FIRST CLASS\"\n",
    "    elif per > 50:\n",
    "        return \"SECOND CLASS\"\n",
    "    elif per > 40:\n",
    "        return \"PASS CLASS\"\n",
    "    else:\n",
    "        return \"FAIL\"\n",
    "\n",
    "def status(physics, chemistry, maths):\n",
    "    if physics >= 40 and chemistry >= 40 and maths >= 40:\n",
    "        return \"PASS\"\n",
    "    else:\n",
    "        return \"FAIL\"\n",
    "\n",
    "def main():\n",
    "    roll_no = input(\"Enter Roll No: \")\n",
    "    student_name = input(\"Enter Student Name: \")\n",
    "    physics_marks = float(input(\"Enter Physics Marks (out of 100): \"))\n",
    "    chemistry_marks = float(input(\"Enter Chemistry Marks (out of 100): \"))\n",
    "    maths_marks = float(input(\"Enter Maths Marks (out of 100): \"))\n",
    "\n",
    "    total_marks = physics_marks + chemistry_marks + maths_marks\n",
    "    per = (total_marks / 300) * 100\n",
    "    s = status(physics_marks, chemistry_marks, maths_marks)\n",
    "    if s == \"PASS\":\n",
    "        g = grade(per)\n",
    "    else:\n",
    "        g = \"N/A\"\n",
    "    print(\"\\nStudent Details:\")\n",
    "    print(\"Roll No:\", roll_no)\n",
    "    print(\"Name:\", student_name)\n",
    "    print(\"\\nSubject-wise Marks:\")\n",
    "    print(\"Physics:\", physics_marks)\n",
    "    print(\"Chemistry:\", chemistry_marks)\n",
    "    print(\"Maths:\", maths_marks)\n",
    "    print(\"\\nTotal Marks:\", total_marks)\n",
    "    print(\"Percentage:\", per)\n",
    "    print(\"Status:\", s)\n",
    "    print(\"Grade:\", g)\n",
    "if __name__ == \"__main__\":\n",
    "    main()"
   ]
  },
  {
   "cell_type": "code",
   "execution_count": 3,
   "id": "4c1d1add-11d8-44f5-91dd-fe2ba090f776",
   "metadata": {},
   "outputs": [
    {
     "name": "stdin",
     "output_type": "stream",
     "text": [
      "Enter Employee ID:  22000275\n",
      "Enter Employee Name:  sakshi\n",
      "Enter Basic Salary:  56000\n",
      "Enter Years of Experience:  2\n"
     ]
    },
    {
     "name": "stdout",
     "output_type": "stream",
     "text": [
      "\n",
      "Employee Details:\n",
      "Employee ID: 22000275\n",
      "Name: sakshi\n",
      "Basic Salary: 56000.0\n",
      "Years of Experience: 2\n",
      "\n",
      "Calculated Components:\n",
      "HRA: 19600.0\n",
      "DA: 32479.999999999996\n",
      "PF: 5320.0\n",
      "Bonus: 8960.0\n",
      "\n",
      "Net Salary: 111720.0\n"
     ]
    }
   ],
   "source": [
    "class Employee:\n",
    "    def __init__(self, empid, name, basic_salary, experience_years):\n",
    "        self.empid = empid\n",
    "        self.name = name\n",
    "        self.basic_salary = basic_salary\n",
    "        self.experience_years = experience_years\n",
    "\n",
    "        self.hra = 0\n",
    "        self.da = 0\n",
    "        self.pf = 0\n",
    "        self.bonus = 0\n",
    "        self.net_salary = 0\n",
    "\n",
    "    def get_empid(self):\n",
    "        return self.empid\n",
    "\n",
    "    def set_empid(self, empid):\n",
    "        self.empid = empid\n",
    "\n",
    "    def get_name(self):\n",
    "        return self.name\n",
    "\n",
    "    def set_name(self, name):\n",
    "        self.name = name\n",
    "\n",
    "    def get_basic_salary(self):\n",
    "        return self.basic_salary\n",
    "\n",
    "    def set_basic_salary(self, basic_salary):\n",
    "        self.basic_salary = basic_salary\n",
    "\n",
    "    def get_experience_years(self):\n",
    "        return self.experience_years\n",
    "\n",
    "    def set_experience_years(self, experience_years):\n",
    "        self.experience_years = experience_years\n",
    "\n",
    "    def calculate_hra(self):\n",
    "        self.hra = 0.35 * self.basic_salary\n",
    "\n",
    "    def calculate_da(self):\n",
    "        self.da = 0.58 * self.basic_salary\n",
    "\n",
    "    def calculate_pf(self):\n",
    "        self.pf = 0.095 * self.basic_salary\n",
    "\n",
    "    def calculate_bonus(self):\n",
    "        if self.experience_years >= 30:\n",
    "            self.bonus = 0.59 * self.basic_salary\n",
    "        elif self.experience_years >= 23:\n",
    "            self.bonus = 0.51 * self.basic_salary\n",
    "        elif self.experience_years >= 15:\n",
    "            self.bonus = 0.45 * self.basic_salary\n",
    "        elif self.experience_years >= 7:\n",
    "            self.bonus = 0.33 * self.basic_salary\n",
    "        else:\n",
    "            self.bonus = 0.16 * self.basic_salary\n",
    "\n",
    "    def calculate_net_salary(self):\n",
    "        self.net_salary = self.basic_salary + self.da + self.hra - self.pf + self.bonus\n",
    "\n",
    "\n",
    "if __name__ == \"__main__\":\n",
    "   \n",
    "    empid = input(\"Enter Employee ID: \")\n",
    "    name = input(\"Enter Employee Name: \")\n",
    "    basic_salary = float(input(\"Enter Basic Salary: \"))\n",
    "    experience_years = int(input(\"Enter Years of Experience: \"))\n",
    "\n",
    "    employee = Employee(empid, name, basic_salary, experience_years)\n",
    "\n",
    "    employee.calculate_hra()\n",
    "    employee.calculate_da()\n",
    "    employee.calculate_pf()\n",
    "    employee.calculate_bonus()\n",
    "    employee.calculate_net_salary()\n",
    "\n",
    "    print(\"\\nEmployee Details:\")\n",
    "    print(\"Employee ID:\", employee.get_empid())\n",
    "    print(\"Name:\", employee.get_name())\n",
    "    print(\"Basic Salary:\", employee.get_basic_salary())\n",
    "    print(\"Years of Experience:\", employee.get_experience_years())\n",
    "    print(\"\\nCalculated Components:\")\n",
    "    print(\"HRA:\", employee.hra)\n",
    "    print(\"DA:\", employee.da)\n",
    "    print(\"PF:\", employee.pf)\n",
    "    print(\"Bonus:\", employee.bonus)\n",
    "    print(\"\\nNet Salary:\", employee.net_salary)"
   ]
  },
  {
   "cell_type": "code",
   "execution_count": 4,
   "id": "e16901ac-51e9-45d8-a807-05415488e987",
   "metadata": {},
   "outputs": [
    {
     "name": "stdin",
     "output_type": "stream",
     "text": [
      "Enter the number of elements in the list:  4\n"
     ]
    },
    {
     "name": "stdout",
     "output_type": "stream",
     "text": [
      "Enter 4 numbers:\n"
     ]
    },
    {
     "name": "stdin",
     "output_type": "stream",
     "text": [
      " 275\n",
      " 232\n",
      " 287\n",
      " 215\n"
     ]
    },
    {
     "name": "stdout",
     "output_type": "stream",
     "text": [
      "\n",
      "Resulting Tuple:\n",
      "(490.0, 519.0)\n"
     ]
    }
   ],
   "source": [
    "class NumberProcessor:\n",
    "    def __init__(self, n):\n",
    "        self.numbers = []\n",
    "        self.newlist = []\n",
    "        self.n = n\n",
    "\n",
    "    def input_numbers(self):\n",
    "        print(\"Enter {} numbers:\".format(self.n))\n",
    "        for _ in range(self.n):\n",
    "            num = float(input())\n",
    "            self.numbers.append(num)\n",
    "\n",
    "    def calculate_newlist(self):\n",
    "        for i in range(self.n // 2):\n",
    "            self.newlist.append(self.numbers[i] + self.numbers[self.n - i - 1])\n",
    "\n",
    "    def remove_duplicates(self):\n",
    "        self.newlist = list(set(self.newlist))\n",
    "\n",
    "    def convert_to_tuple(self):\n",
    "        self.newlist = tuple(self.newlist)\n",
    "\n",
    "    def display_result(self):\n",
    "        print(\"\\nResulting Tuple:\")\n",
    "        print(self.newlist)\n",
    "\n",
    "\n",
    "if __name__ == \"__main__\":\n",
    "    n = int(input(\"Enter the number of elements in the list: \"))\n",
    "    number_processor = NumberProcessor(n)\n",
    "    number_processor.input_numbers()\n",
    "    number_processor.calculate_newlist()\n",
    "    number_processor.remove_duplicates()\n",
    "    number_processor.convert_to_tuple()\n",
    "    number_processor.display_result()"
   ]
  },
  {
   "cell_type": "code",
   "execution_count": 5,
   "id": "1468953a-5b7f-4ac4-a78b-1843dceb345d",
   "metadata": {},
   "outputs": [
    {
     "name": "stdin",
     "output_type": "stream",
     "text": [
      "Enter Employee ID:  22000275\n",
      "Enter Employee Name:  sakshi\n",
      "Enter Basic Salary:  62000\n",
      "Enter Years of Experience:  3\n"
     ]
    },
    {
     "name": "stdout",
     "output_type": "stream",
     "text": [
      "\n",
      "Employee Details:\n",
      "Employee ID: 22000275\n",
      "Employee Name: sakshi\n",
      "Basic Salary: 62000.0\n",
      "Years of Experience: 3\n",
      "Net Salary: 123690.0\n"
     ]
    }
   ],
   "source": [
    "def calculate_bonus(experience, basic_salary):\n",
    "    if experience >= 30:\n",
    "        bonus = 0.59 * basic_salary\n",
    "    elif experience >= 23:\n",
    "        bonus = 0.51 * basic_salary\n",
    "    elif experience >= 15:\n",
    "        bonus = 0.45 * basic_salary\n",
    "    elif experience >= 7:\n",
    "        bonus = 0.33 * basic_salary\n",
    "    else:\n",
    "        bonus = 0.16 * basic_salary\n",
    "    return bonus\n",
    "\n",
    "def calculate_netsalary(basic_salary, experience):\n",
    "    hra = 0.35 * basic_salary\n",
    "    da = 0.58 * basic_salary\n",
    "    pf = 0.095 * basic_salary\n",
    "    bonus = calculate_bonus(experience, basic_salary)\n",
    "    netsalary = basic_salary + hra + da - pf + bonus\n",
    "    return netsalary\n",
    "\n",
    "def main():\n",
    "    empid = input(\"Enter Employee ID: \")\n",
    "    name = input(\"Enter Employee Name: \")\n",
    "    basic_salary = float(input(\"Enter Basic Salary: \"))\n",
    "    experience = int(input(\"Enter Years of Experience: \"))\n",
    "\n",
    "    netsalary = calculate_netsalary(basic_salary, experience)\n",
    "\n",
    "    print(\"\\nEmployee Details:\")\n",
    "    print(\"Employee ID:\", empid)\n",
    "    print(\"Employee Name:\", name)\n",
    "    print(\"Basic Salary:\", basic_salary)\n",
    "    print(\"Years of Experience:\", experience)\n",
    "    print(\"Net Salary:\", netsalary)\n",
    "\n",
    "if __name__ == \"__main__\":\n",
    "    main()"
   ]
  },
  {
   "cell_type": "code",
   "execution_count": 6,
   "id": "94ca71f4-382c-4946-9362-b5fd1125995c",
   "metadata": {},
   "outputs": [
    {
     "name": "stdin",
     "output_type": "stream",
     "text": [
      "enter 1st no;  258\n",
      "enter 2nd no;  159\n"
     ]
    },
    {
     "name": "stdout",
     "output_type": "stream",
     "text": [
      "Addition is <__main__.MyNumber object at 0x0000020BAA73F890>\n",
      "258 raised to <__main__.MyNumber object at 0x0000020BAA747AD0>\n",
      "Concatenation answer is <__main__.MyNumber object at 0x0000020BAA73F890>\n",
      "Maximum is <__main__.MyNumber object at 0x0000020BAA747AD0>\n",
      "Minimum is <__main__.MyNumber object at 0x0000020BAA73F890>\n"
     ]
    }
   ],
   "source": [
    "class MyNumber:\n",
    "    def __init__(self, num=0):\n",
    "        self.num = num\n",
    "\n",
    "    def add(self, other):\n",
    "        result = MyNumber()\n",
    "        result.num = self.num + other.num\n",
    "        return result\n",
    "\n",
    "    def raised_to(self, other):\n",
    "        result = MyNumber()\n",
    "        result.num = self.num ** other.num\n",
    "        return result\n",
    "\n",
    "    def concat(self, other):\n",
    "        result = MyNumber()\n",
    "        result.num = int(str(self.num) + str(other.num))\n",
    "        return result\n",
    "\n",
    "    def max(self, other):\n",
    "        result = MyNumber()\n",
    "        result.num = max(self.num, other.num)\n",
    "        return result\n",
    "\n",
    "    def min(self, other):\n",
    "        result = MyNumber()\n",
    "        result.num = min(self.num, other.num)\n",
    "        return result\n",
    "\n",
    "\n",
    "if __name__ == \"__main__\":\n",
    "    n1 = MyNumber(int(input(\"enter 1st no; \")))\n",
    "    n2 = MyNumber(int(input(\"enter 2nd no; \")))\n",
    "\n",
    "    print(\"Addition is\", n1.add(n2))  \n",
    "    n3 = n1.raised_to(n2)\n",
    "    print(n1.num, \"raised to\", n1.raised_to(n2)) \n",
    "    n3 = n1.concat(n2)\n",
    "    print(\"Concatenation answer is\", n1.concat(n2))  \n",
    "    n3 = n1.max(n2)\n",
    "    print(\"Maximum is\", n1.max(n2)) \n",
    "    n3 = n1.min(n2)\n",
    "    print(\"Minimum is\", n1.min(n2))  "
   ]
  },
  {
   "cell_type": "code",
   "execution_count": null,
   "id": "544f9dbb-c20d-4026-a7a3-c68dbe467c12",
   "metadata": {},
   "outputs": [],
   "source": []
  }
 ],
 "metadata": {
  "kernelspec": {
   "display_name": "Python 3 (ipykernel)",
   "language": "python",
   "name": "python3"
  },
  "language_info": {
   "codemirror_mode": {
    "name": "ipython",
    "version": 3
   },
   "file_extension": ".py",
   "mimetype": "text/x-python",
   "name": "python",
   "nbconvert_exporter": "python",
   "pygments_lexer": "ipython3",
   "version": "3.11.5"
  }
 },
 "nbformat": 4,
 "nbformat_minor": 5
}
