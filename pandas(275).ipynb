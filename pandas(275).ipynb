{
 "cells": [
  {
   "cell_type": "code",
   "execution_count": 1,
   "id": "38d41e08-2924-41a8-8ac7-e856e300d4d0",
   "metadata": {},
   "outputs": [],
   "source": [
    "import numpy as np\n",
    "import pandas as pd"
   ]
  },
  {
   "cell_type": "code",
   "execution_count": 2,
   "id": "d5776c1f-3e31-4233-b761-579464ba40f1",
   "metadata": {},
   "outputs": [
    {
     "data": {
      "text/plain": [
       "python    10\n",
       "DSA       20\n",
       "dbms      30\n",
       "dtype: int64"
      ]
     },
     "execution_count": 2,
     "metadata": {},
     "output_type": "execute_result"
    }
   ],
   "source": [
    "#series\n",
    "marks = pd.Series([10,20,30],index=[\"python\",\"DSA\",\"dbms\"])\n",
    "marks"
   ]
  },
  {
   "cell_type": "code",
   "execution_count": 3,
   "id": "e1839e6a-abf5-4734-82c9-1fe20b1d8fff",
   "metadata": {},
   "outputs": [
    {
     "data": {
      "text/plain": [
       "Index(['python', 'DSA', 'dbms'], dtype='object')"
      ]
     },
     "execution_count": 3,
     "metadata": {},
     "output_type": "execute_result"
    }
   ],
   "source": [
    "marks.keys()"
   ]
  },
  {
   "cell_type": "code",
   "execution_count": 4,
   "id": "c241a34d-ae55-4cd3-a84e-d740d01c1568",
   "metadata": {},
   "outputs": [
    {
     "data": {
      "text/plain": [
       "array([10, 20, 30], dtype=int64)"
      ]
     },
     "execution_count": 4,
     "metadata": {},
     "output_type": "execute_result"
    }
   ],
   "source": [
    "marks.values"
   ]
  },
  {
   "cell_type": "code",
   "execution_count": 6,
   "id": "958a4eee-eb95-49b3-8baf-9a94e197cd7c",
   "metadata": {},
   "outputs": [
    {
     "data": {
      "text/plain": [
       "sname           Sakshi shah\n",
       "mail     sakshi15@gmail.com\n",
       "add                vadodara\n",
       "dtype: object"
      ]
     },
     "execution_count": 6,
     "metadata": {},
     "output_type": "execute_result"
    }
   ],
   "source": [
    "pd.Series([\"Sakshi shah\",\"sakshi15@gmail.com\",\"vadodara\"],[\"sname\",\"mail\",\"add\"])"
   ]
  },
  {
   "cell_type": "code",
   "execution_count": 7,
   "id": "65eded71-9808-439c-9c06-019c7380c44c",
   "metadata": {},
   "outputs": [
    {
     "data": {
      "text/plain": [
       "sname                            [sakshi, het]\n",
       "mail     [sakshi15@gmail.com, het02@gmail.com]\n",
       "add                      [rajasthan, vadodara]\n",
       "dtype: object"
      ]
     },
     "execution_count": 7,
     "metadata": {},
     "output_type": "execute_result"
    }
   ],
   "source": [
    "my_dict = {'sname':['sakshi','het'],\n",
    "           'mail': ['sakshi15@gmail.com','het02@gmail.com'],\n",
    "           'add' : ['rajasthan','vadodara']}\n",
    "pd.Series(my_dict)"
   ]
  },
  {
   "cell_type": "code",
   "execution_count": 9,
   "id": "c3b76630-df57-40fb-b41a-f21dbf1b344f",
   "metadata": {},
   "outputs": [
    {
     "name": "stdout",
     "output_type": "stream",
     "text": [
      "[[37 12 72  9 75]\n",
      " [ 5 79 64 16  1]\n",
      " [76 71  6 25 50]\n",
      " [20 18 84 11 28]\n",
      " [29 14 50 68 87]]\n"
     ]
    },
    {
     "data": {
      "text/html": [
       "<div>\n",
       "<style scoped>\n",
       "    .dataframe tbody tr th:only-of-type {\n",
       "        vertical-align: middle;\n",
       "    }\n",
       "\n",
       "    .dataframe tbody tr th {\n",
       "        vertical-align: top;\n",
       "    }\n",
       "\n",
       "    .dataframe thead th {\n",
       "        text-align: right;\n",
       "    }\n",
       "</style>\n",
       "<table border=\"1\" class=\"dataframe\">\n",
       "  <thead>\n",
       "    <tr style=\"text-align: right;\">\n",
       "      <th></th>\n",
       "      <th>python</th>\n",
       "      <th>dsa</th>\n",
       "      <th>dbms</th>\n",
       "      <th>ooad</th>\n",
       "      <th>stb</th>\n",
       "    </tr>\n",
       "  </thead>\n",
       "  <tbody>\n",
       "    <tr>\n",
       "      <th>sakshi</th>\n",
       "      <td>37</td>\n",
       "      <td>12</td>\n",
       "      <td>72</td>\n",
       "      <td>9</td>\n",
       "      <td>75</td>\n",
       "    </tr>\n",
       "    <tr>\n",
       "      <th>het</th>\n",
       "      <td>5</td>\n",
       "      <td>79</td>\n",
       "      <td>64</td>\n",
       "      <td>16</td>\n",
       "      <td>1</td>\n",
       "    </tr>\n",
       "    <tr>\n",
       "      <th>vrund</th>\n",
       "      <td>76</td>\n",
       "      <td>71</td>\n",
       "      <td>6</td>\n",
       "      <td>25</td>\n",
       "      <td>50</td>\n",
       "    </tr>\n",
       "    <tr>\n",
       "      <th>dweeti</th>\n",
       "      <td>20</td>\n",
       "      <td>18</td>\n",
       "      <td>84</td>\n",
       "      <td>11</td>\n",
       "      <td>28</td>\n",
       "    </tr>\n",
       "    <tr>\n",
       "      <th>harshit</th>\n",
       "      <td>29</td>\n",
       "      <td>14</td>\n",
       "      <td>50</td>\n",
       "      <td>68</td>\n",
       "      <td>87</td>\n",
       "    </tr>\n",
       "  </tbody>\n",
       "</table>\n",
       "</div>"
      ],
      "text/plain": [
       "         python  dsa  dbms  ooad  stb\n",
       "sakshi       37   12    72     9   75\n",
       "het           5   79    64    16    1\n",
       "vrund        76   71     6    25   50\n",
       "dweeti       20   18    84    11   28\n",
       "harshit      29   14    50    68   87"
      ]
     },
     "execution_count": 9,
     "metadata": {},
     "output_type": "execute_result"
    }
   ],
   "source": [
    "#dataframe #data,index=[],columns={}\n",
    "np.random.seed(1) #lock the values \n",
    "\n",
    "mat = np.random.randint(0,100,(5,5))\n",
    "print(mat)\n",
    "result = pd.DataFrame(mat,['sakshi','het','vrund','dweeti','harshit'],['python','dsa','dbms','ooad','stb'])\n",
    "result"
   ]
  },
  {
   "cell_type": "code",
   "execution_count": 10,
   "id": "0ce35451-90f4-4476-97f1-59f0b908adbb",
   "metadata": {},
   "outputs": [
    {
     "data": {
      "text/plain": [
       "array([[37, 12, 72,  9, 75],\n",
       "       [ 5, 79, 64, 16,  1],\n",
       "       [76, 71,  6, 25, 50],\n",
       "       [20, 18, 84, 11, 28],\n",
       "       [29, 14, 50, 68, 87]])"
      ]
     },
     "execution_count": 10,
     "metadata": {},
     "output_type": "execute_result"
    }
   ],
   "source": [
    "mat"
   ]
  },
  {
   "cell_type": "code",
   "execution_count": 11,
   "id": "0c98f28f-8886-4cfc-9fa0-88d3f0e8a87a",
   "metadata": {},
   "outputs": [
    {
     "data": {
      "text/html": [
       "<div>\n",
       "<style scoped>\n",
       "    .dataframe tbody tr th:only-of-type {\n",
       "        vertical-align: middle;\n",
       "    }\n",
       "\n",
       "    .dataframe tbody tr th {\n",
       "        vertical-align: top;\n",
       "    }\n",
       "\n",
       "    .dataframe thead th {\n",
       "        text-align: right;\n",
       "    }\n",
       "</style>\n",
       "<table border=\"1\" class=\"dataframe\">\n",
       "  <thead>\n",
       "    <tr style=\"text-align: right;\">\n",
       "      <th></th>\n",
       "      <th>python</th>\n",
       "      <th>dsa</th>\n",
       "    </tr>\n",
       "  </thead>\n",
       "  <tbody>\n",
       "    <tr>\n",
       "      <th>sakshi</th>\n",
       "      <td>37</td>\n",
       "      <td>12</td>\n",
       "    </tr>\n",
       "    <tr>\n",
       "      <th>het</th>\n",
       "      <td>5</td>\n",
       "      <td>79</td>\n",
       "    </tr>\n",
       "    <tr>\n",
       "      <th>vrund</th>\n",
       "      <td>76</td>\n",
       "      <td>71</td>\n",
       "    </tr>\n",
       "    <tr>\n",
       "      <th>dweeti</th>\n",
       "      <td>20</td>\n",
       "      <td>18</td>\n",
       "    </tr>\n",
       "    <tr>\n",
       "      <th>harshit</th>\n",
       "      <td>29</td>\n",
       "      <td>14</td>\n",
       "    </tr>\n",
       "  </tbody>\n",
       "</table>\n",
       "</div>"
      ],
      "text/plain": [
       "         python  dsa\n",
       "sakshi       37   12\n",
       "het           5   79\n",
       "vrund        76   71\n",
       "dweeti       20   18\n",
       "harshit      29   14"
      ]
     },
     "execution_count": 11,
     "metadata": {},
     "output_type": "execute_result"
    }
   ],
   "source": [
    "#for multiple columns, double square brackets\n",
    "result [['python','dsa']]"
   ]
  },
  {
   "cell_type": "code",
   "execution_count": 12,
   "id": "11fa9a12-d7af-47ba-bb20-64a2c840d723",
   "metadata": {},
   "outputs": [
    {
     "data": {
      "text/html": [
       "<div>\n",
       "<style scoped>\n",
       "    .dataframe tbody tr th:only-of-type {\n",
       "        vertical-align: middle;\n",
       "    }\n",
       "\n",
       "    .dataframe tbody tr th {\n",
       "        vertical-align: top;\n",
       "    }\n",
       "\n",
       "    .dataframe thead th {\n",
       "        text-align: right;\n",
       "    }\n",
       "</style>\n",
       "<table border=\"1\" class=\"dataframe\">\n",
       "  <thead>\n",
       "    <tr style=\"text-align: right;\">\n",
       "      <th></th>\n",
       "      <th>python</th>\n",
       "      <th>dsa</th>\n",
       "      <th>dbms</th>\n",
       "      <th>ooad</th>\n",
       "      <th>stb</th>\n",
       "    </tr>\n",
       "  </thead>\n",
       "  <tbody>\n",
       "    <tr>\n",
       "      <th>het</th>\n",
       "      <td>5</td>\n",
       "      <td>79</td>\n",
       "      <td>64</td>\n",
       "      <td>16</td>\n",
       "      <td>1</td>\n",
       "    </tr>\n",
       "    <tr>\n",
       "      <th>vrund</th>\n",
       "      <td>76</td>\n",
       "      <td>71</td>\n",
       "      <td>6</td>\n",
       "      <td>25</td>\n",
       "      <td>50</td>\n",
       "    </tr>\n",
       "  </tbody>\n",
       "</table>\n",
       "</div>"
      ],
      "text/plain": [
       "       python  dsa  dbms  ooad  stb\n",
       "het         5   79    64    16    1\n",
       "vrund      76   71     6    25   50"
      ]
     },
     "execution_count": 12,
     "metadata": {},
     "output_type": "execute_result"
    }
   ],
   "source": [
    "result.loc[['het','vrund']]"
   ]
  },
  {
   "cell_type": "code",
   "execution_count": 13,
   "id": "1ca81715-f7cf-4c44-bc2e-2ff02400bc57",
   "metadata": {},
   "outputs": [
    {
     "data": {
      "text/html": [
       "<div>\n",
       "<style scoped>\n",
       "    .dataframe tbody tr th:only-of-type {\n",
       "        vertical-align: middle;\n",
       "    }\n",
       "\n",
       "    .dataframe tbody tr th {\n",
       "        vertical-align: top;\n",
       "    }\n",
       "\n",
       "    .dataframe thead th {\n",
       "        text-align: right;\n",
       "    }\n",
       "</style>\n",
       "<table border=\"1\" class=\"dataframe\">\n",
       "  <thead>\n",
       "    <tr style=\"text-align: right;\">\n",
       "      <th></th>\n",
       "      <th>python</th>\n",
       "      <th>dsa</th>\n",
       "      <th>dbms</th>\n",
       "      <th>ooad</th>\n",
       "      <th>stb</th>\n",
       "      <th>total</th>\n",
       "      <th>percentage</th>\n",
       "    </tr>\n",
       "  </thead>\n",
       "  <tbody>\n",
       "    <tr>\n",
       "      <th>sakshi</th>\n",
       "      <td>37</td>\n",
       "      <td>12</td>\n",
       "      <td>72</td>\n",
       "      <td>9</td>\n",
       "      <td>75</td>\n",
       "      <td>205</td>\n",
       "      <td>41.0</td>\n",
       "    </tr>\n",
       "    <tr>\n",
       "      <th>het</th>\n",
       "      <td>5</td>\n",
       "      <td>79</td>\n",
       "      <td>64</td>\n",
       "      <td>16</td>\n",
       "      <td>1</td>\n",
       "      <td>165</td>\n",
       "      <td>33.0</td>\n",
       "    </tr>\n",
       "    <tr>\n",
       "      <th>vrund</th>\n",
       "      <td>76</td>\n",
       "      <td>71</td>\n",
       "      <td>6</td>\n",
       "      <td>25</td>\n",
       "      <td>50</td>\n",
       "      <td>228</td>\n",
       "      <td>45.6</td>\n",
       "    </tr>\n",
       "    <tr>\n",
       "      <th>dweeti</th>\n",
       "      <td>20</td>\n",
       "      <td>18</td>\n",
       "      <td>84</td>\n",
       "      <td>11</td>\n",
       "      <td>28</td>\n",
       "      <td>161</td>\n",
       "      <td>32.2</td>\n",
       "    </tr>\n",
       "    <tr>\n",
       "      <th>harshit</th>\n",
       "      <td>29</td>\n",
       "      <td>14</td>\n",
       "      <td>50</td>\n",
       "      <td>68</td>\n",
       "      <td>87</td>\n",
       "      <td>248</td>\n",
       "      <td>49.6</td>\n",
       "    </tr>\n",
       "  </tbody>\n",
       "</table>\n",
       "</div>"
      ],
      "text/plain": [
       "         python  dsa  dbms  ooad  stb  total  percentage\n",
       "sakshi       37   12    72     9   75    205        41.0\n",
       "het           5   79    64    16    1    165        33.0\n",
       "vrund        76   71     6    25   50    228        45.6\n",
       "dweeti       20   18    84    11   28    161        32.2\n",
       "harshit      29   14    50    68   87    248        49.6"
      ]
     },
     "execution_count": 13,
     "metadata": {},
     "output_type": "execute_result"
    }
   ],
   "source": [
    "result['total']=result['python']+result['dsa']+result['dbms']+result['ooad']+result['stb']\n",
    "result['percentage'] = result['total']/5 \n",
    "result"
   ]
  },
  {
   "cell_type": "code",
   "execution_count": 14,
   "id": "ee003973-1786-498f-b264-e3c74619c5ba",
   "metadata": {},
   "outputs": [
    {
     "data": {
      "text/html": [
       "<div>\n",
       "<style scoped>\n",
       "    .dataframe tbody tr th:only-of-type {\n",
       "        vertical-align: middle;\n",
       "    }\n",
       "\n",
       "    .dataframe tbody tr th {\n",
       "        vertical-align: top;\n",
       "    }\n",
       "\n",
       "    .dataframe thead th {\n",
       "        text-align: right;\n",
       "    }\n",
       "</style>\n",
       "<table border=\"1\" class=\"dataframe\">\n",
       "  <thead>\n",
       "    <tr style=\"text-align: right;\">\n",
       "      <th></th>\n",
       "      <th>python</th>\n",
       "      <th>dsa</th>\n",
       "      <th>dbms</th>\n",
       "      <th>ooad</th>\n",
       "      <th>stb</th>\n",
       "      <th>total</th>\n",
       "      <th>percentage</th>\n",
       "    </tr>\n",
       "  </thead>\n",
       "  <tbody>\n",
       "    <tr>\n",
       "      <th>count</th>\n",
       "      <td>5.000000</td>\n",
       "      <td>5.000000</td>\n",
       "      <td>5.000000</td>\n",
       "      <td>5.000000</td>\n",
       "      <td>5.00000</td>\n",
       "      <td>5.000000</td>\n",
       "      <td>5.000000</td>\n",
       "    </tr>\n",
       "    <tr>\n",
       "      <th>mean</th>\n",
       "      <td>33.400000</td>\n",
       "      <td>38.800000</td>\n",
       "      <td>55.200000</td>\n",
       "      <td>25.800000</td>\n",
       "      <td>48.20000</td>\n",
       "      <td>201.400000</td>\n",
       "      <td>40.280000</td>\n",
       "    </tr>\n",
       "    <tr>\n",
       "      <th>std</th>\n",
       "      <td>26.613906</td>\n",
       "      <td>33.237028</td>\n",
       "      <td>30.152943</td>\n",
       "      <td>24.386472</td>\n",
       "      <td>34.86689</td>\n",
       "      <td>38.240031</td>\n",
       "      <td>7.648006</td>\n",
       "    </tr>\n",
       "    <tr>\n",
       "      <th>min</th>\n",
       "      <td>5.000000</td>\n",
       "      <td>12.000000</td>\n",
       "      <td>6.000000</td>\n",
       "      <td>9.000000</td>\n",
       "      <td>1.00000</td>\n",
       "      <td>161.000000</td>\n",
       "      <td>32.200000</td>\n",
       "    </tr>\n",
       "    <tr>\n",
       "      <th>25%</th>\n",
       "      <td>20.000000</td>\n",
       "      <td>14.000000</td>\n",
       "      <td>50.000000</td>\n",
       "      <td>11.000000</td>\n",
       "      <td>28.00000</td>\n",
       "      <td>165.000000</td>\n",
       "      <td>33.000000</td>\n",
       "    </tr>\n",
       "    <tr>\n",
       "      <th>50%</th>\n",
       "      <td>29.000000</td>\n",
       "      <td>18.000000</td>\n",
       "      <td>64.000000</td>\n",
       "      <td>16.000000</td>\n",
       "      <td>50.00000</td>\n",
       "      <td>205.000000</td>\n",
       "      <td>41.000000</td>\n",
       "    </tr>\n",
       "    <tr>\n",
       "      <th>75%</th>\n",
       "      <td>37.000000</td>\n",
       "      <td>71.000000</td>\n",
       "      <td>72.000000</td>\n",
       "      <td>25.000000</td>\n",
       "      <td>75.00000</td>\n",
       "      <td>228.000000</td>\n",
       "      <td>45.600000</td>\n",
       "    </tr>\n",
       "    <tr>\n",
       "      <th>max</th>\n",
       "      <td>76.000000</td>\n",
       "      <td>79.000000</td>\n",
       "      <td>84.000000</td>\n",
       "      <td>68.000000</td>\n",
       "      <td>87.00000</td>\n",
       "      <td>248.000000</td>\n",
       "      <td>49.600000</td>\n",
       "    </tr>\n",
       "  </tbody>\n",
       "</table>\n",
       "</div>"
      ],
      "text/plain": [
       "          python        dsa       dbms       ooad       stb       total  \\\n",
       "count   5.000000   5.000000   5.000000   5.000000   5.00000    5.000000   \n",
       "mean   33.400000  38.800000  55.200000  25.800000  48.20000  201.400000   \n",
       "std    26.613906  33.237028  30.152943  24.386472  34.86689   38.240031   \n",
       "min     5.000000  12.000000   6.000000   9.000000   1.00000  161.000000   \n",
       "25%    20.000000  14.000000  50.000000  11.000000  28.00000  165.000000   \n",
       "50%    29.000000  18.000000  64.000000  16.000000  50.00000  205.000000   \n",
       "75%    37.000000  71.000000  72.000000  25.000000  75.00000  228.000000   \n",
       "max    76.000000  79.000000  84.000000  68.000000  87.00000  248.000000   \n",
       "\n",
       "       percentage  \n",
       "count    5.000000  \n",
       "mean    40.280000  \n",
       "std      7.648006  \n",
       "min     32.200000  \n",
       "25%     33.000000  \n",
       "50%     41.000000  \n",
       "75%     45.600000  \n",
       "max     49.600000  "
      ]
     },
     "execution_count": 14,
     "metadata": {},
     "output_type": "execute_result"
    }
   ],
   "source": [
    "result.describe() "
   ]
  },
  {
   "cell_type": "code",
   "execution_count": 15,
   "id": "4dfa9877-f9c4-4675-8c04-6eccc11774e2",
   "metadata": {},
   "outputs": [
    {
     "data": {
      "text/html": [
       "<div>\n",
       "<style scoped>\n",
       "    .dataframe tbody tr th:only-of-type {\n",
       "        vertical-align: middle;\n",
       "    }\n",
       "\n",
       "    .dataframe tbody tr th {\n",
       "        vertical-align: top;\n",
       "    }\n",
       "\n",
       "    .dataframe thead th {\n",
       "        text-align: right;\n",
       "    }\n",
       "</style>\n",
       "<table border=\"1\" class=\"dataframe\">\n",
       "  <thead>\n",
       "    <tr style=\"text-align: right;\">\n",
       "      <th></th>\n",
       "      <th>python</th>\n",
       "      <th>dsa</th>\n",
       "      <th>dbms</th>\n",
       "      <th>ooad</th>\n",
       "      <th>stb</th>\n",
       "      <th>total</th>\n",
       "      <th>percentage</th>\n",
       "    </tr>\n",
       "  </thead>\n",
       "  <tbody>\n",
       "    <tr>\n",
       "      <th>sakshi</th>\n",
       "      <td>37</td>\n",
       "      <td>12</td>\n",
       "      <td>72</td>\n",
       "      <td>9</td>\n",
       "      <td>75</td>\n",
       "      <td>205</td>\n",
       "      <td>41.0</td>\n",
       "    </tr>\n",
       "    <tr>\n",
       "      <th>het</th>\n",
       "      <td>5</td>\n",
       "      <td>79</td>\n",
       "      <td>64</td>\n",
       "      <td>16</td>\n",
       "      <td>1</td>\n",
       "      <td>165</td>\n",
       "      <td>33.0</td>\n",
       "    </tr>\n",
       "    <tr>\n",
       "      <th>vrund</th>\n",
       "      <td>76</td>\n",
       "      <td>71</td>\n",
       "      <td>6</td>\n",
       "      <td>25</td>\n",
       "      <td>50</td>\n",
       "      <td>228</td>\n",
       "      <td>45.6</td>\n",
       "    </tr>\n",
       "    <tr>\n",
       "      <th>dweeti</th>\n",
       "      <td>20</td>\n",
       "      <td>18</td>\n",
       "      <td>84</td>\n",
       "      <td>11</td>\n",
       "      <td>28</td>\n",
       "      <td>161</td>\n",
       "      <td>32.2</td>\n",
       "    </tr>\n",
       "    <tr>\n",
       "      <th>harshit</th>\n",
       "      <td>29</td>\n",
       "      <td>14</td>\n",
       "      <td>50</td>\n",
       "      <td>68</td>\n",
       "      <td>87</td>\n",
       "      <td>248</td>\n",
       "      <td>49.6</td>\n",
       "    </tr>\n",
       "  </tbody>\n",
       "</table>\n",
       "</div>"
      ],
      "text/plain": [
       "         python  dsa  dbms  ooad  stb  total  percentage\n",
       "sakshi       37   12    72     9   75    205        41.0\n",
       "het           5   79    64    16    1    165        33.0\n",
       "vrund        76   71     6    25   50    228        45.6\n",
       "dweeti       20   18    84    11   28    161        32.2\n",
       "harshit      29   14    50    68   87    248        49.6"
      ]
     },
     "execution_count": 15,
     "metadata": {},
     "output_type": "execute_result"
    }
   ],
   "source": [
    "result.head()"
   ]
  },
  {
   "cell_type": "code",
   "execution_count": 16,
   "id": "cfd440b8-49fb-47b7-92d9-f1bb7a97b79f",
   "metadata": {},
   "outputs": [
    {
     "data": {
      "text/html": [
       "<div>\n",
       "<style scoped>\n",
       "    .dataframe tbody tr th:only-of-type {\n",
       "        vertical-align: middle;\n",
       "    }\n",
       "\n",
       "    .dataframe tbody tr th {\n",
       "        vertical-align: top;\n",
       "    }\n",
       "\n",
       "    .dataframe thead th {\n",
       "        text-align: right;\n",
       "    }\n",
       "</style>\n",
       "<table border=\"1\" class=\"dataframe\">\n",
       "  <thead>\n",
       "    <tr style=\"text-align: right;\">\n",
       "      <th></th>\n",
       "      <th>python</th>\n",
       "      <th>dsa</th>\n",
       "      <th>dbms</th>\n",
       "      <th>ooad</th>\n",
       "      <th>stb</th>\n",
       "      <th>total</th>\n",
       "      <th>percentage</th>\n",
       "    </tr>\n",
       "  </thead>\n",
       "  <tbody>\n",
       "    <tr>\n",
       "      <th>sakshi</th>\n",
       "      <td>37</td>\n",
       "      <td>12</td>\n",
       "      <td>72</td>\n",
       "      <td>9</td>\n",
       "      <td>75</td>\n",
       "      <td>205</td>\n",
       "      <td>41.0</td>\n",
       "    </tr>\n",
       "    <tr>\n",
       "      <th>het</th>\n",
       "      <td>5</td>\n",
       "      <td>79</td>\n",
       "      <td>64</td>\n",
       "      <td>16</td>\n",
       "      <td>1</td>\n",
       "      <td>165</td>\n",
       "      <td>33.0</td>\n",
       "    </tr>\n",
       "  </tbody>\n",
       "</table>\n",
       "</div>"
      ],
      "text/plain": [
       "        python  dsa  dbms  ooad  stb  total  percentage\n",
       "sakshi      37   12    72     9   75    205        41.0\n",
       "het          5   79    64    16    1    165        33.0"
      ]
     },
     "execution_count": 16,
     "metadata": {},
     "output_type": "execute_result"
    }
   ],
   "source": [
    "result.head(2)"
   ]
  },
  {
   "cell_type": "code",
   "execution_count": 17,
   "id": "5ea473d0-90e7-4493-8c65-518d74cc1af0",
   "metadata": {},
   "outputs": [
    {
     "data": {
      "text/html": [
       "<div>\n",
       "<style scoped>\n",
       "    .dataframe tbody tr th:only-of-type {\n",
       "        vertical-align: middle;\n",
       "    }\n",
       "\n",
       "    .dataframe tbody tr th {\n",
       "        vertical-align: top;\n",
       "    }\n",
       "\n",
       "    .dataframe thead th {\n",
       "        text-align: right;\n",
       "    }\n",
       "</style>\n",
       "<table border=\"1\" class=\"dataframe\">\n",
       "  <thead>\n",
       "    <tr style=\"text-align: right;\">\n",
       "      <th></th>\n",
       "      <th>python</th>\n",
       "      <th>dsa</th>\n",
       "      <th>dbms</th>\n",
       "      <th>ooad</th>\n",
       "      <th>stb</th>\n",
       "      <th>total</th>\n",
       "      <th>percentage</th>\n",
       "    </tr>\n",
       "  </thead>\n",
       "  <tbody>\n",
       "    <tr>\n",
       "      <th>sakshi</th>\n",
       "      <td>37</td>\n",
       "      <td>12</td>\n",
       "      <td>72</td>\n",
       "      <td>9</td>\n",
       "      <td>75</td>\n",
       "      <td>205</td>\n",
       "      <td>41.0</td>\n",
       "    </tr>\n",
       "    <tr>\n",
       "      <th>het</th>\n",
       "      <td>5</td>\n",
       "      <td>79</td>\n",
       "      <td>64</td>\n",
       "      <td>16</td>\n",
       "      <td>1</td>\n",
       "      <td>165</td>\n",
       "      <td>33.0</td>\n",
       "    </tr>\n",
       "    <tr>\n",
       "      <th>vrund</th>\n",
       "      <td>76</td>\n",
       "      <td>71</td>\n",
       "      <td>6</td>\n",
       "      <td>25</td>\n",
       "      <td>50</td>\n",
       "      <td>228</td>\n",
       "      <td>45.6</td>\n",
       "    </tr>\n",
       "    <tr>\n",
       "      <th>dweeti</th>\n",
       "      <td>20</td>\n",
       "      <td>18</td>\n",
       "      <td>84</td>\n",
       "      <td>11</td>\n",
       "      <td>28</td>\n",
       "      <td>161</td>\n",
       "      <td>32.2</td>\n",
       "    </tr>\n",
       "    <tr>\n",
       "      <th>harshit</th>\n",
       "      <td>29</td>\n",
       "      <td>14</td>\n",
       "      <td>50</td>\n",
       "      <td>68</td>\n",
       "      <td>87</td>\n",
       "      <td>248</td>\n",
       "      <td>49.6</td>\n",
       "    </tr>\n",
       "  </tbody>\n",
       "</table>\n",
       "</div>"
      ],
      "text/plain": [
       "         python  dsa  dbms  ooad  stb  total  percentage\n",
       "sakshi       37   12    72     9   75    205        41.0\n",
       "het           5   79    64    16    1    165        33.0\n",
       "vrund        76   71     6    25   50    228        45.6\n",
       "dweeti       20   18    84    11   28    161        32.2\n",
       "harshit      29   14    50    68   87    248        49.6"
      ]
     },
     "execution_count": 17,
     "metadata": {},
     "output_type": "execute_result"
    }
   ],
   "source": [
    "result.tail()"
   ]
  },
  {
   "cell_type": "code",
   "execution_count": 18,
   "id": "857cdaf9-51ef-41cd-b2cc-c873f590ea10",
   "metadata": {},
   "outputs": [
    {
     "data": {
      "text/html": [
       "<div>\n",
       "<style scoped>\n",
       "    .dataframe tbody tr th:only-of-type {\n",
       "        vertical-align: middle;\n",
       "    }\n",
       "\n",
       "    .dataframe tbody tr th {\n",
       "        vertical-align: top;\n",
       "    }\n",
       "\n",
       "    .dataframe thead th {\n",
       "        text-align: right;\n",
       "    }\n",
       "</style>\n",
       "<table border=\"1\" class=\"dataframe\">\n",
       "  <thead>\n",
       "    <tr style=\"text-align: right;\">\n",
       "      <th></th>\n",
       "      <th>python</th>\n",
       "      <th>dsa</th>\n",
       "      <th>dbms</th>\n",
       "      <th>ooad</th>\n",
       "      <th>stb</th>\n",
       "      <th>total</th>\n",
       "      <th>percentage</th>\n",
       "    </tr>\n",
       "  </thead>\n",
       "  <tbody>\n",
       "    <tr>\n",
       "      <th>vrund</th>\n",
       "      <td>76</td>\n",
       "      <td>71</td>\n",
       "      <td>6</td>\n",
       "      <td>25</td>\n",
       "      <td>50</td>\n",
       "      <td>228</td>\n",
       "      <td>45.6</td>\n",
       "    </tr>\n",
       "    <tr>\n",
       "      <th>dweeti</th>\n",
       "      <td>20</td>\n",
       "      <td>18</td>\n",
       "      <td>84</td>\n",
       "      <td>11</td>\n",
       "      <td>28</td>\n",
       "      <td>161</td>\n",
       "      <td>32.2</td>\n",
       "    </tr>\n",
       "    <tr>\n",
       "      <th>harshit</th>\n",
       "      <td>29</td>\n",
       "      <td>14</td>\n",
       "      <td>50</td>\n",
       "      <td>68</td>\n",
       "      <td>87</td>\n",
       "      <td>248</td>\n",
       "      <td>49.6</td>\n",
       "    </tr>\n",
       "  </tbody>\n",
       "</table>\n",
       "</div>"
      ],
      "text/plain": [
       "         python  dsa  dbms  ooad  stb  total  percentage\n",
       "vrund        76   71     6    25   50    228        45.6\n",
       "dweeti       20   18    84    11   28    161        32.2\n",
       "harshit      29   14    50    68   87    248        49.6"
      ]
     },
     "execution_count": 18,
     "metadata": {},
     "output_type": "execute_result"
    }
   ],
   "source": [
    "result.tail(3)"
   ]
  },
  {
   "cell_type": "code",
   "execution_count": 19,
   "id": "9f58742d-4a72-42ea-bd8c-6ea9dd330961",
   "metadata": {},
   "outputs": [
    {
     "data": {
      "text/plain": [
       "python         20.0\n",
       "dsa            18.0\n",
       "dbms           84.0\n",
       "ooad           11.0\n",
       "stb            28.0\n",
       "total         161.0\n",
       "percentage     32.2\n",
       "Name: dweeti, dtype: float64"
      ]
     },
     "execution_count": 19,
     "metadata": {},
     "output_type": "execute_result"
    }
   ],
   "source": [
    "result.iloc[3]"
   ]
  },
  {
   "cell_type": "code",
   "execution_count": 21,
   "id": "3904d373-3c17-42ed-b338-fd6aeb0f36c4",
   "metadata": {},
   "outputs": [
    {
     "data": {
      "text/html": [
       "<div>\n",
       "<style scoped>\n",
       "    .dataframe tbody tr th:only-of-type {\n",
       "        vertical-align: middle;\n",
       "    }\n",
       "\n",
       "    .dataframe tbody tr th {\n",
       "        vertical-align: top;\n",
       "    }\n",
       "\n",
       "    .dataframe thead th {\n",
       "        text-align: right;\n",
       "    }\n",
       "</style>\n",
       "<table border=\"1\" class=\"dataframe\">\n",
       "  <thead>\n",
       "    <tr style=\"text-align: right;\">\n",
       "      <th></th>\n",
       "      <th>0</th>\n",
       "      <th>1</th>\n",
       "      <th>2</th>\n",
       "      <th>3</th>\n",
       "      <th>4</th>\n",
       "    </tr>\n",
       "  </thead>\n",
       "  <tbody>\n",
       "    <tr>\n",
       "      <th>name</th>\n",
       "      <td>abc</td>\n",
       "      <td>def</td>\n",
       "      <td>ghi</td>\n",
       "      <td>jkl</td>\n",
       "      <td>mno</td>\n",
       "    </tr>\n",
       "    <tr>\n",
       "      <th>id</th>\n",
       "      <td>1</td>\n",
       "      <td>2</td>\n",
       "      <td>3</td>\n",
       "      <td>4</td>\n",
       "      <td>5</td>\n",
       "    </tr>\n",
       "    <tr>\n",
       "      <th>price</th>\n",
       "      <td>100</td>\n",
       "      <td>200</td>\n",
       "      <td>300</td>\n",
       "      <td>350</td>\n",
       "      <td>400</td>\n",
       "    </tr>\n",
       "  </tbody>\n",
       "</table>\n",
       "</div>"
      ],
      "text/plain": [
       "         0    1    2    3    4\n",
       "name   abc  def  ghi  jkl  mno\n",
       "id       1    2    3    4    5\n",
       "price  100  200  300  350  400"
      ]
     },
     "execution_count": 21,
     "metadata": {},
     "output_type": "execute_result"
    }
   ],
   "source": [
    "# Task1\n",
    "# Question 1\n",
    "pname = ['abc','def','ghi','jkl','mno']\n",
    "pid = [1,2,3,4,5]\n",
    "pprice = [100,200,300,350,400]\n",
    "\n",
    "\n",
    "demo = pd.DataFrame((pname,pid,pprice),['name','id','price'])\n",
    "demo"
   ]
  },
  {
   "cell_type": "code",
   "execution_count": 22,
   "id": "f3b75437-2d4a-4681-927f-a8f5b266c136",
   "metadata": {},
   "outputs": [
    {
     "data": {
      "text/plain": [
       "name     abc\n",
       "id         1\n",
       "price    100\n",
       "Name: 0, dtype: object"
      ]
     },
     "execution_count": 22,
     "metadata": {},
     "output_type": "execute_result"
    }
   ],
   "source": [
    "#Question 2\n",
    "demo[0]"
   ]
  },
  {
   "cell_type": "code",
   "execution_count": 23,
   "id": "589b2bec-8774-480f-9f73-24562bdb544d",
   "metadata": {},
   "outputs": [
    {
     "data": {
      "text/plain": [
       "name     def\n",
       "id         2\n",
       "price    200\n",
       "Name: 1, dtype: object"
      ]
     },
     "execution_count": 23,
     "metadata": {},
     "output_type": "execute_result"
    }
   ],
   "source": [
    "demo[1]"
   ]
  },
  {
   "cell_type": "code",
   "execution_count": 24,
   "id": "1e51507d-bda4-4c65-a2f4-0fce1a261e7b",
   "metadata": {},
   "outputs": [
    {
     "data": {
      "text/plain": [
       "name     ghi\n",
       "id         3\n",
       "price    300\n",
       "Name: 2, dtype: object"
      ]
     },
     "execution_count": 24,
     "metadata": {},
     "output_type": "execute_result"
    }
   ],
   "source": [
    "demo[2]"
   ]
  },
  {
   "cell_type": "code",
   "execution_count": 25,
   "id": "9db56492-9e9d-4144-91c5-5b84e05de8fc",
   "metadata": {},
   "outputs": [
    {
     "data": {
      "text/plain": [
       "name     jkl\n",
       "id         4\n",
       "price    350\n",
       "Name: 3, dtype: object"
      ]
     },
     "execution_count": 25,
     "metadata": {},
     "output_type": "execute_result"
    }
   ],
   "source": [
    "demo[3]"
   ]
  },
  {
   "cell_type": "code",
   "execution_count": 26,
   "id": "bbac8f70-3d42-4f5c-8fea-5f2564e0aacb",
   "metadata": {},
   "outputs": [
    {
     "data": {
      "text/plain": [
       "name     mno\n",
       "id         5\n",
       "price    400\n",
       "Name: 4, dtype: object"
      ]
     },
     "execution_count": 26,
     "metadata": {},
     "output_type": "execute_result"
    }
   ],
   "source": [
    "demo[4]"
   ]
  },
  {
   "cell_type": "code",
   "execution_count": 27,
   "id": "abb501f0-b286-4671-8712-8a5108afbab8",
   "metadata": {},
   "outputs": [
    {
     "data": {
      "text/html": [
       "<div>\n",
       "<style scoped>\n",
       "    .dataframe tbody tr th:only-of-type {\n",
       "        vertical-align: middle;\n",
       "    }\n",
       "\n",
       "    .dataframe tbody tr th {\n",
       "        vertical-align: top;\n",
       "    }\n",
       "\n",
       "    .dataframe thead th {\n",
       "        text-align: right;\n",
       "    }\n",
       "</style>\n",
       "<table border=\"1\" class=\"dataframe\">\n",
       "  <thead>\n",
       "    <tr style=\"text-align: right;\">\n",
       "      <th></th>\n",
       "      <th>0</th>\n",
       "      <th>1</th>\n",
       "      <th>2</th>\n",
       "      <th>3</th>\n",
       "      <th>4</th>\n",
       "    </tr>\n",
       "  </thead>\n",
       "  <tbody>\n",
       "    <tr>\n",
       "      <th>id</th>\n",
       "      <td>1</td>\n",
       "      <td>2</td>\n",
       "      <td>3</td>\n",
       "      <td>4</td>\n",
       "      <td>5</td>\n",
       "    </tr>\n",
       "    <tr>\n",
       "      <th>name</th>\n",
       "      <td>abc</td>\n",
       "      <td>def</td>\n",
       "      <td>ghi</td>\n",
       "      <td>jkl</td>\n",
       "      <td>mno</td>\n",
       "    </tr>\n",
       "    <tr>\n",
       "      <th>price</th>\n",
       "      <td>100</td>\n",
       "      <td>200</td>\n",
       "      <td>300</td>\n",
       "      <td>350</td>\n",
       "      <td>400</td>\n",
       "    </tr>\n",
       "  </tbody>\n",
       "</table>\n",
       "</div>"
      ],
      "text/plain": [
       "         0    1    2    3    4\n",
       "id       1    2    3    4    5\n",
       "name   abc  def  ghi  jkl  mno\n",
       "price  100  200  300  350  400"
      ]
     },
     "execution_count": 27,
     "metadata": {},
     "output_type": "execute_result"
    }
   ],
   "source": [
    "#Question 3\n",
    "demo.loc[['id','name','price']]"
   ]
  },
  {
   "cell_type": "code",
   "execution_count": 28,
   "id": "26c0e8e2-03af-4c8b-bae7-b85f0aa18aca",
   "metadata": {},
   "outputs": [
    {
     "data": {
      "text/plain": [
       "0    100\n",
       "1    200\n",
       "2    300\n",
       "3    350\n",
       "4    400\n",
       "Name: price, dtype: object"
      ]
     },
     "execution_count": 28,
     "metadata": {},
     "output_type": "execute_result"
    }
   ],
   "source": [
    "demo.iloc[2]"
   ]
  },
  {
   "cell_type": "code",
   "execution_count": 29,
   "id": "fb1fb992-2241-4270-8f2b-f1e4213e85f2",
   "metadata": {},
   "outputs": [
    {
     "data": {
      "text/plain": [
       "0    abc\n",
       "1    def\n",
       "2    ghi\n",
       "3    jkl\n",
       "4    mno\n",
       "Name: name, dtype: object"
      ]
     },
     "execution_count": 29,
     "metadata": {},
     "output_type": "execute_result"
    }
   ],
   "source": [
    "#Question 4\n",
    "demo.loc['name']"
   ]
  },
  {
   "cell_type": "code",
   "execution_count": 30,
   "id": "46dc221b-d0ef-4a35-bb91-af37a35361e3",
   "metadata": {},
   "outputs": [
    {
     "data": {
      "text/html": [
       "<div>\n",
       "<style scoped>\n",
       "    .dataframe tbody tr th:only-of-type {\n",
       "        vertical-align: middle;\n",
       "    }\n",
       "\n",
       "    .dataframe tbody tr th {\n",
       "        vertical-align: top;\n",
       "    }\n",
       "\n",
       "    .dataframe thead th {\n",
       "        text-align: right;\n",
       "    }\n",
       "</style>\n",
       "<table border=\"1\" class=\"dataframe\">\n",
       "  <thead>\n",
       "    <tr style=\"text-align: right;\">\n",
       "      <th></th>\n",
       "      <th>0</th>\n",
       "      <th>1</th>\n",
       "      <th>2</th>\n",
       "      <th>3</th>\n",
       "      <th>4</th>\n",
       "    </tr>\n",
       "  </thead>\n",
       "  <tbody>\n",
       "    <tr>\n",
       "      <th>id</th>\n",
       "      <td>1</td>\n",
       "      <td>2</td>\n",
       "      <td>3</td>\n",
       "      <td>4</td>\n",
       "      <td>5</td>\n",
       "    </tr>\n",
       "    <tr>\n",
       "      <th>price</th>\n",
       "      <td>100</td>\n",
       "      <td>200</td>\n",
       "      <td>300</td>\n",
       "      <td>350</td>\n",
       "      <td>400</td>\n",
       "    </tr>\n",
       "  </tbody>\n",
       "</table>\n",
       "</div>"
      ],
      "text/plain": [
       "         0    1    2    3    4\n",
       "id       1    2    3    4    5\n",
       "price  100  200  300  350  400"
      ]
     },
     "execution_count": 30,
     "metadata": {},
     "output_type": "execute_result"
    }
   ],
   "source": [
    "demo.iloc[1:4]"
   ]
  },
  {
   "cell_type": "code",
   "execution_count": 31,
   "id": "c31f91f5-0551-4f97-9f38-8b4c960a226f",
   "metadata": {},
   "outputs": [
    {
     "data": {
      "text/html": [
       "<div>\n",
       "<style scoped>\n",
       "    .dataframe tbody tr th:only-of-type {\n",
       "        vertical-align: middle;\n",
       "    }\n",
       "\n",
       "    .dataframe tbody tr th {\n",
       "        vertical-align: top;\n",
       "    }\n",
       "\n",
       "    .dataframe thead th {\n",
       "        text-align: right;\n",
       "    }\n",
       "</style>\n",
       "<table border=\"1\" class=\"dataframe\">\n",
       "  <thead>\n",
       "    <tr style=\"text-align: right;\">\n",
       "      <th></th>\n",
       "      <th>0</th>\n",
       "      <th>1</th>\n",
       "      <th>2</th>\n",
       "      <th>3</th>\n",
       "      <th>4</th>\n",
       "    </tr>\n",
       "  </thead>\n",
       "  <tbody>\n",
       "    <tr>\n",
       "      <th>id</th>\n",
       "      <td>1</td>\n",
       "      <td>2</td>\n",
       "      <td>3</td>\n",
       "      <td>4</td>\n",
       "      <td>5</td>\n",
       "    </tr>\n",
       "    <tr>\n",
       "      <th>price</th>\n",
       "      <td>100</td>\n",
       "      <td>200</td>\n",
       "      <td>300</td>\n",
       "      <td>350</td>\n",
       "      <td>400</td>\n",
       "    </tr>\n",
       "  </tbody>\n",
       "</table>\n",
       "</div>"
      ],
      "text/plain": [
       "         0    1    2    3    4\n",
       "id       1    2    3    4    5\n",
       "price  100  200  300  350  400"
      ]
     },
     "execution_count": 31,
     "metadata": {},
     "output_type": "execute_result"
    }
   ],
   "source": [
    "#Question 5\n",
    "demo.iloc[1:3]"
   ]
  },
  {
   "cell_type": "code",
   "execution_count": 32,
   "id": "04cc4e71-150b-4d8d-afb1-289e15e67f01",
   "metadata": {},
   "outputs": [
    {
     "data": {
      "text/plain": [
       "python    33.4\n",
       "dsa       38.8\n",
       "dbms      55.2\n",
       "ooad      25.8\n",
       "stb       48.2\n",
       "dtype: float64"
      ]
     },
     "execution_count": 32,
     "metadata": {},
     "output_type": "execute_result"
    }
   ],
   "source": [
    "np.random.seed(1) #lock the values \n",
    "mat = np.random.randint(0,100,(5,5))\n",
    "temp = pd.DataFrame(mat,['sakshi','het','vrund','dweeti','harshit'],['python','dsa','dbms','ooad','stb'])\n",
    "temp.sum()/5"
   ]
  },
  {
   "cell_type": "code",
   "execution_count": 33,
   "id": "95c0eb4c-e66f-47c3-bccb-05af0a25d206",
   "metadata": {},
   "outputs": [
    {
     "data": {
      "text/html": [
       "<div>\n",
       "<style scoped>\n",
       "    .dataframe tbody tr th:only-of-type {\n",
       "        vertical-align: middle;\n",
       "    }\n",
       "\n",
       "    .dataframe tbody tr th {\n",
       "        vertical-align: top;\n",
       "    }\n",
       "\n",
       "    .dataframe thead th {\n",
       "        text-align: right;\n",
       "    }\n",
       "</style>\n",
       "<table border=\"1\" class=\"dataframe\">\n",
       "  <thead>\n",
       "    <tr style=\"text-align: right;\">\n",
       "      <th></th>\n",
       "      <th>python</th>\n",
       "      <th>dsa</th>\n",
       "      <th>dbms</th>\n",
       "      <th>ooad</th>\n",
       "      <th>stb</th>\n",
       "    </tr>\n",
       "  </thead>\n",
       "  <tbody>\n",
       "    <tr>\n",
       "      <th>sakshi</th>\n",
       "      <td>41</td>\n",
       "      <td>12</td>\n",
       "      <td>72</td>\n",
       "      <td>9</td>\n",
       "      <td>75</td>\n",
       "    </tr>\n",
       "    <tr>\n",
       "      <th>het</th>\n",
       "      <td>41</td>\n",
       "      <td>79</td>\n",
       "      <td>64</td>\n",
       "      <td>16</td>\n",
       "      <td>1</td>\n",
       "    </tr>\n",
       "    <tr>\n",
       "      <th>vrund</th>\n",
       "      <td>76</td>\n",
       "      <td>71</td>\n",
       "      <td>6</td>\n",
       "      <td>25</td>\n",
       "      <td>50</td>\n",
       "    </tr>\n",
       "    <tr>\n",
       "      <th>dweeti</th>\n",
       "      <td>41</td>\n",
       "      <td>18</td>\n",
       "      <td>84</td>\n",
       "      <td>11</td>\n",
       "      <td>28</td>\n",
       "    </tr>\n",
       "    <tr>\n",
       "      <th>harshit</th>\n",
       "      <td>41</td>\n",
       "      <td>14</td>\n",
       "      <td>50</td>\n",
       "      <td>68</td>\n",
       "      <td>87</td>\n",
       "    </tr>\n",
       "  </tbody>\n",
       "</table>\n",
       "</div>"
      ],
      "text/plain": [
       "         python  dsa  dbms  ooad  stb\n",
       "sakshi       41   12    72     9   75\n",
       "het          41   79    64    16    1\n",
       "vrund        76   71     6    25   50\n",
       "dweeti       41   18    84    11   28\n",
       "harshit      41   14    50    68   87"
      ]
     },
     "execution_count": 33,
     "metadata": {},
     "output_type": "execute_result"
    }
   ],
   "source": [
    "# Question 8 \n",
    "temp.loc[temp['python']<40, 'python'] = 41\n",
    "temp"
   ]
  },
  {
   "cell_type": "code",
   "execution_count": 34,
   "id": "d2e9c035-b003-4f2d-b532-8f6d76579d6b",
   "metadata": {},
   "outputs": [
    {
     "data": {
      "text/html": [
       "<div>\n",
       "<style scoped>\n",
       "    .dataframe tbody tr th:only-of-type {\n",
       "        vertical-align: middle;\n",
       "    }\n",
       "\n",
       "    .dataframe tbody tr th {\n",
       "        vertical-align: top;\n",
       "    }\n",
       "\n",
       "    .dataframe thead th {\n",
       "        text-align: right;\n",
       "    }\n",
       "</style>\n",
       "<table border=\"1\" class=\"dataframe\">\n",
       "  <thead>\n",
       "    <tr style=\"text-align: right;\">\n",
       "      <th></th>\n",
       "      <th>python</th>\n",
       "      <th>dsa</th>\n",
       "      <th>dbms</th>\n",
       "      <th>ooad</th>\n",
       "      <th>stb</th>\n",
       "    </tr>\n",
       "  </thead>\n",
       "  <tbody>\n",
       "    <tr>\n",
       "      <th>sakshi</th>\n",
       "      <td>61</td>\n",
       "      <td>32</td>\n",
       "      <td>92</td>\n",
       "      <td>29</td>\n",
       "      <td>95</td>\n",
       "    </tr>\n",
       "    <tr>\n",
       "      <th>het</th>\n",
       "      <td>61</td>\n",
       "      <td>99</td>\n",
       "      <td>84</td>\n",
       "      <td>36</td>\n",
       "      <td>21</td>\n",
       "    </tr>\n",
       "    <tr>\n",
       "      <th>vrund</th>\n",
       "      <td>96</td>\n",
       "      <td>91</td>\n",
       "      <td>26</td>\n",
       "      <td>45</td>\n",
       "      <td>70</td>\n",
       "    </tr>\n",
       "    <tr>\n",
       "      <th>dweeti</th>\n",
       "      <td>61</td>\n",
       "      <td>38</td>\n",
       "      <td>104</td>\n",
       "      <td>31</td>\n",
       "      <td>48</td>\n",
       "    </tr>\n",
       "    <tr>\n",
       "      <th>harshit</th>\n",
       "      <td>61</td>\n",
       "      <td>34</td>\n",
       "      <td>70</td>\n",
       "      <td>88</td>\n",
       "      <td>107</td>\n",
       "    </tr>\n",
       "  </tbody>\n",
       "</table>\n",
       "</div>"
      ],
      "text/plain": [
       "         python  dsa  dbms  ooad  stb\n",
       "sakshi       61   32    92    29   95\n",
       "het          61   99    84    36   21\n",
       "vrund        96   91    26    45   70\n",
       "dweeti       61   38   104    31   48\n",
       "harshit      61   34    70    88  107"
      ]
     },
     "execution_count": 34,
     "metadata": {},
     "output_type": "execute_result"
    }
   ],
   "source": [
    "#Question 9\n",
    "temp = temp + 20\n",
    "temp"
   ]
  },
  {
   "cell_type": "code",
   "execution_count": 35,
   "id": "41b87ad9-d01e-4a2c-8ccd-f86d688c8a48",
   "metadata": {},
   "outputs": [
    {
     "data": {
      "text/html": [
       "<div>\n",
       "<style scoped>\n",
       "    .dataframe tbody tr th:only-of-type {\n",
       "        vertical-align: middle;\n",
       "    }\n",
       "\n",
       "    .dataframe tbody tr th {\n",
       "        vertical-align: top;\n",
       "    }\n",
       "\n",
       "    .dataframe thead th {\n",
       "        text-align: right;\n",
       "    }\n",
       "</style>\n",
       "<table border=\"1\" class=\"dataframe\">\n",
       "  <thead>\n",
       "    <tr style=\"text-align: right;\">\n",
       "      <th></th>\n",
       "      <th>python</th>\n",
       "      <th>dsa</th>\n",
       "      <th>dbms</th>\n",
       "      <th>ooad</th>\n",
       "      <th>stb</th>\n",
       "    </tr>\n",
       "  </thead>\n",
       "  <tbody>\n",
       "    <tr>\n",
       "      <th>sakshi</th>\n",
       "      <td>61</td>\n",
       "      <td>32</td>\n",
       "      <td>92</td>\n",
       "      <td>29</td>\n",
       "      <td>95</td>\n",
       "    </tr>\n",
       "    <tr>\n",
       "      <th>het</th>\n",
       "      <td>61</td>\n",
       "      <td>99</td>\n",
       "      <td>84</td>\n",
       "      <td>36</td>\n",
       "      <td>21</td>\n",
       "    </tr>\n",
       "    <tr>\n",
       "      <th>vrund</th>\n",
       "      <td>96</td>\n",
       "      <td>91</td>\n",
       "      <td>26</td>\n",
       "      <td>45</td>\n",
       "      <td>70</td>\n",
       "    </tr>\n",
       "    <tr>\n",
       "      <th>dweeti</th>\n",
       "      <td>61</td>\n",
       "      <td>38</td>\n",
       "      <td>100</td>\n",
       "      <td>31</td>\n",
       "      <td>48</td>\n",
       "    </tr>\n",
       "    <tr>\n",
       "      <th>harshit</th>\n",
       "      <td>61</td>\n",
       "      <td>34</td>\n",
       "      <td>70</td>\n",
       "      <td>88</td>\n",
       "      <td>100</td>\n",
       "    </tr>\n",
       "  </tbody>\n",
       "</table>\n",
       "</div>"
      ],
      "text/plain": [
       "         python  dsa  dbms  ooad  stb\n",
       "sakshi       61   32    92    29   95\n",
       "het          61   99    84    36   21\n",
       "vrund        96   91    26    45   70\n",
       "dweeti       61   38   100    31   48\n",
       "harshit      61   34    70    88  100"
      ]
     },
     "execution_count": 35,
     "metadata": {},
     "output_type": "execute_result"
    }
   ],
   "source": [
    "temp[temp>100] = 100\n",
    "temp"
   ]
  },
  {
   "cell_type": "code",
   "execution_count": 36,
   "id": "58a466f2-823d-48e1-837e-52fa36f46987",
   "metadata": {},
   "outputs": [
    {
     "data": {
      "text/html": [
       "<div>\n",
       "<style scoped>\n",
       "    .dataframe tbody tr th:only-of-type {\n",
       "        vertical-align: middle;\n",
       "    }\n",
       "\n",
       "    .dataframe tbody tr th {\n",
       "        vertical-align: top;\n",
       "    }\n",
       "\n",
       "    .dataframe thead th {\n",
       "        text-align: right;\n",
       "    }\n",
       "</style>\n",
       "<table border=\"1\" class=\"dataframe\">\n",
       "  <thead>\n",
       "    <tr style=\"text-align: right;\">\n",
       "      <th></th>\n",
       "      <th>python</th>\n",
       "      <th>dsa</th>\n",
       "      <th>dbms</th>\n",
       "      <th>ooad</th>\n",
       "      <th>stb</th>\n",
       "    </tr>\n",
       "  </thead>\n",
       "  <tbody>\n",
       "    <tr>\n",
       "      <th>het</th>\n",
       "      <td>61</td>\n",
       "      <td>99</td>\n",
       "      <td>84</td>\n",
       "      <td>36</td>\n",
       "      <td>21</td>\n",
       "    </tr>\n",
       "    <tr>\n",
       "      <th>vrund</th>\n",
       "      <td>96</td>\n",
       "      <td>91</td>\n",
       "      <td>26</td>\n",
       "      <td>45</td>\n",
       "      <td>70</td>\n",
       "    </tr>\n",
       "  </tbody>\n",
       "</table>\n",
       "</div>"
      ],
      "text/plain": [
       "       python  dsa  dbms  ooad  stb\n",
       "het        61   99    84    36   21\n",
       "vrund      96   91    26    45   70"
      ]
     },
     "execution_count": 36,
     "metadata": {},
     "output_type": "execute_result"
    }
   ],
   "source": [
    "#Question 10\n",
    "temp[(temp['python']>50) & (temp['dsa']>60)]"
   ]
  },
  {
   "cell_type": "code",
   "execution_count": 38,
   "id": "f97cad00-75fb-4d84-9f40-a1d378c805fb",
   "metadata": {},
   "outputs": [
    {
     "data": {
      "text/html": [
       "<div>\n",
       "<style scoped>\n",
       "    .dataframe tbody tr th:only-of-type {\n",
       "        vertical-align: middle;\n",
       "    }\n",
       "\n",
       "    .dataframe tbody tr th {\n",
       "        vertical-align: top;\n",
       "    }\n",
       "\n",
       "    .dataframe thead th {\n",
       "        text-align: right;\n",
       "    }\n",
       "</style>\n",
       "<table border=\"1\" class=\"dataframe\">\n",
       "  <thead>\n",
       "    <tr style=\"text-align: right;\">\n",
       "      <th></th>\n",
       "      <th>python</th>\n",
       "      <th>dsa</th>\n",
       "      <th>dbms</th>\n",
       "      <th>ooad</th>\n",
       "      <th>stb</th>\n",
       "    </tr>\n",
       "  </thead>\n",
       "  <tbody>\n",
       "    <tr>\n",
       "      <th>sakshi</th>\n",
       "      <td>61</td>\n",
       "      <td>32</td>\n",
       "      <td>92</td>\n",
       "      <td>29</td>\n",
       "      <td>95</td>\n",
       "    </tr>\n",
       "  </tbody>\n",
       "</table>\n",
       "</div>"
      ],
      "text/plain": [
       "        python  dsa  dbms  ooad  stb\n",
       "sakshi      61   32    92    29   95"
      ]
     },
     "execution_count": 38,
     "metadata": {},
     "output_type": "execute_result"
    }
   ],
   "source": [
    "#Question 11\n",
    "temp[temp.index.str.startswith('s')]"
   ]
  },
  {
   "cell_type": "code",
   "execution_count": 39,
   "id": "8885a730-903d-4319-acba-5786ea8e8305",
   "metadata": {},
   "outputs": [
    {
     "data": {
      "text/html": [
       "<div>\n",
       "<style scoped>\n",
       "    .dataframe tbody tr th:only-of-type {\n",
       "        vertical-align: middle;\n",
       "    }\n",
       "\n",
       "    .dataframe tbody tr th {\n",
       "        vertical-align: top;\n",
       "    }\n",
       "\n",
       "    .dataframe thead th {\n",
       "        text-align: right;\n",
       "    }\n",
       "</style>\n",
       "<table border=\"1\" class=\"dataframe\">\n",
       "  <thead>\n",
       "    <tr style=\"text-align: right;\">\n",
       "      <th></th>\n",
       "      <th>python</th>\n",
       "      <th>dsa</th>\n",
       "      <th>dbms</th>\n",
       "      <th>ooad</th>\n",
       "      <th>stb</th>\n",
       "    </tr>\n",
       "  </thead>\n",
       "  <tbody>\n",
       "    <tr>\n",
       "      <th>sakshi</th>\n",
       "      <td>61</td>\n",
       "      <td>32</td>\n",
       "      <td>92</td>\n",
       "      <td>29</td>\n",
       "      <td>95</td>\n",
       "    </tr>\n",
       "    <tr>\n",
       "      <th>dweeti</th>\n",
       "      <td>61</td>\n",
       "      <td>38</td>\n",
       "      <td>100</td>\n",
       "      <td>31</td>\n",
       "      <td>48</td>\n",
       "    </tr>\n",
       "  </tbody>\n",
       "</table>\n",
       "</div>"
      ],
      "text/plain": [
       "        python  dsa  dbms  ooad  stb\n",
       "sakshi      61   32    92    29   95\n",
       "dweeti      61   38   100    31   48"
      ]
     },
     "execution_count": 39,
     "metadata": {},
     "output_type": "execute_result"
    }
   ],
   "source": [
    "#Question 12\n",
    "temp[temp.index.str.endswith('i')]"
   ]
  },
  {
   "cell_type": "code",
   "execution_count": 40,
   "id": "f4f32488-8ede-4f1c-81f8-559387b78b4c",
   "metadata": {},
   "outputs": [
    {
     "name": "stdout",
     "output_type": "stream",
     "text": [
      "python    340\n",
      "dsa       294\n",
      "dbms      372\n",
      "ooad      229\n",
      "stb       334\n",
      "dtype: int64\n"
     ]
    },
    {
     "data": {
      "text/plain": [
       "python    68.0\n",
       "dsa       58.8\n",
       "dbms      74.4\n",
       "ooad      45.8\n",
       "stb       66.8\n",
       "dtype: float64"
      ]
     },
     "execution_count": 40,
     "metadata": {},
     "output_type": "execute_result"
    }
   ],
   "source": [
    "#Question 13\n",
    "print(temp.sum())\n",
    "temp.sum()/5"
   ]
  },
  {
   "cell_type": "code",
   "execution_count": 41,
   "id": "d8f1aa30-d3c2-43ef-b793-041fc3a533a2",
   "metadata": {},
   "outputs": [
    {
     "data": {
      "text/html": [
       "<div>\n",
       "<style scoped>\n",
       "    .dataframe tbody tr th:only-of-type {\n",
       "        vertical-align: middle;\n",
       "    }\n",
       "\n",
       "    .dataframe tbody tr th {\n",
       "        vertical-align: top;\n",
       "    }\n",
       "\n",
       "    .dataframe thead th {\n",
       "        text-align: right;\n",
       "    }\n",
       "</style>\n",
       "<table border=\"1\" class=\"dataframe\">\n",
       "  <thead>\n",
       "    <tr style=\"text-align: right;\">\n",
       "      <th></th>\n",
       "      <th>python</th>\n",
       "      <th>dsa</th>\n",
       "      <th>dbms</th>\n",
       "      <th>ooad</th>\n",
       "      <th>stb</th>\n",
       "      <th>total</th>\n",
       "      <th>percentage</th>\n",
       "      <th>result</th>\n",
       "    </tr>\n",
       "  </thead>\n",
       "  <tbody>\n",
       "    <tr>\n",
       "      <th>sakshi</th>\n",
       "      <td>37</td>\n",
       "      <td>12</td>\n",
       "      <td>72</td>\n",
       "      <td>9</td>\n",
       "      <td>75</td>\n",
       "      <td>205</td>\n",
       "      <td>41.0</td>\n",
       "      <td>pass</td>\n",
       "    </tr>\n",
       "    <tr>\n",
       "      <th>het</th>\n",
       "      <td>5</td>\n",
       "      <td>79</td>\n",
       "      <td>64</td>\n",
       "      <td>16</td>\n",
       "      <td>1</td>\n",
       "      <td>165</td>\n",
       "      <td>33.0</td>\n",
       "      <td>fail</td>\n",
       "    </tr>\n",
       "    <tr>\n",
       "      <th>vrund</th>\n",
       "      <td>76</td>\n",
       "      <td>71</td>\n",
       "      <td>6</td>\n",
       "      <td>25</td>\n",
       "      <td>50</td>\n",
       "      <td>228</td>\n",
       "      <td>45.6</td>\n",
       "      <td>pass</td>\n",
       "    </tr>\n",
       "    <tr>\n",
       "      <th>dweeti</th>\n",
       "      <td>20</td>\n",
       "      <td>18</td>\n",
       "      <td>84</td>\n",
       "      <td>11</td>\n",
       "      <td>28</td>\n",
       "      <td>161</td>\n",
       "      <td>32.2</td>\n",
       "      <td>fail</td>\n",
       "    </tr>\n",
       "    <tr>\n",
       "      <th>harshit</th>\n",
       "      <td>29</td>\n",
       "      <td>14</td>\n",
       "      <td>50</td>\n",
       "      <td>68</td>\n",
       "      <td>87</td>\n",
       "      <td>248</td>\n",
       "      <td>49.6</td>\n",
       "      <td>pass</td>\n",
       "    </tr>\n",
       "  </tbody>\n",
       "</table>\n",
       "</div>"
      ],
      "text/plain": [
       "         python  dsa  dbms  ooad  stb  total  percentage result\n",
       "sakshi       37   12    72     9   75    205        41.0   pass\n",
       "het           5   79    64    16    1    165        33.0   fail\n",
       "vrund        76   71     6    25   50    228        45.6   pass\n",
       "dweeti       20   18    84    11   28    161        32.2   fail\n",
       "harshit      29   14    50    68   87    248        49.6   pass"
      ]
     },
     "execution_count": 41,
     "metadata": {},
     "output_type": "execute_result"
    }
   ],
   "source": [
    "#Question 14 \n",
    "result['result'] = np.where(result['percentage']<35,'fail','pass')\n",
    "result"
   ]
  },
  {
   "cell_type": "code",
   "execution_count": 42,
   "id": "c399334a-d36e-429b-898e-29dec70a4d68",
   "metadata": {},
   "outputs": [
    {
     "data": {
      "text/html": [
       "<div>\n",
       "<style scoped>\n",
       "    .dataframe tbody tr th:only-of-type {\n",
       "        vertical-align: middle;\n",
       "    }\n",
       "\n",
       "    .dataframe tbody tr th {\n",
       "        vertical-align: top;\n",
       "    }\n",
       "\n",
       "    .dataframe thead th {\n",
       "        text-align: right;\n",
       "    }\n",
       "</style>\n",
       "<table border=\"1\" class=\"dataframe\">\n",
       "  <thead>\n",
       "    <tr style=\"text-align: right;\">\n",
       "      <th></th>\n",
       "      <th>python</th>\n",
       "      <th>dsa</th>\n",
       "      <th>dbms</th>\n",
       "      <th>ooad</th>\n",
       "      <th>stb</th>\n",
       "      <th>total</th>\n",
       "      <th>percentage</th>\n",
       "    </tr>\n",
       "  </thead>\n",
       "  <tbody>\n",
       "    <tr>\n",
       "      <th>count</th>\n",
       "      <td>5.000000</td>\n",
       "      <td>5.000000</td>\n",
       "      <td>5.000000</td>\n",
       "      <td>5.000000</td>\n",
       "      <td>5.00000</td>\n",
       "      <td>5.000000</td>\n",
       "      <td>5.000000</td>\n",
       "    </tr>\n",
       "    <tr>\n",
       "      <th>mean</th>\n",
       "      <td>33.400000</td>\n",
       "      <td>38.800000</td>\n",
       "      <td>55.200000</td>\n",
       "      <td>25.800000</td>\n",
       "      <td>48.20000</td>\n",
       "      <td>201.400000</td>\n",
       "      <td>40.280000</td>\n",
       "    </tr>\n",
       "    <tr>\n",
       "      <th>std</th>\n",
       "      <td>26.613906</td>\n",
       "      <td>33.237028</td>\n",
       "      <td>30.152943</td>\n",
       "      <td>24.386472</td>\n",
       "      <td>34.86689</td>\n",
       "      <td>38.240031</td>\n",
       "      <td>7.648006</td>\n",
       "    </tr>\n",
       "    <tr>\n",
       "      <th>min</th>\n",
       "      <td>5.000000</td>\n",
       "      <td>12.000000</td>\n",
       "      <td>6.000000</td>\n",
       "      <td>9.000000</td>\n",
       "      <td>1.00000</td>\n",
       "      <td>161.000000</td>\n",
       "      <td>32.200000</td>\n",
       "    </tr>\n",
       "    <tr>\n",
       "      <th>25%</th>\n",
       "      <td>20.000000</td>\n",
       "      <td>14.000000</td>\n",
       "      <td>50.000000</td>\n",
       "      <td>11.000000</td>\n",
       "      <td>28.00000</td>\n",
       "      <td>165.000000</td>\n",
       "      <td>33.000000</td>\n",
       "    </tr>\n",
       "    <tr>\n",
       "      <th>50%</th>\n",
       "      <td>29.000000</td>\n",
       "      <td>18.000000</td>\n",
       "      <td>64.000000</td>\n",
       "      <td>16.000000</td>\n",
       "      <td>50.00000</td>\n",
       "      <td>205.000000</td>\n",
       "      <td>41.000000</td>\n",
       "    </tr>\n",
       "    <tr>\n",
       "      <th>75%</th>\n",
       "      <td>37.000000</td>\n",
       "      <td>71.000000</td>\n",
       "      <td>72.000000</td>\n",
       "      <td>25.000000</td>\n",
       "      <td>75.00000</td>\n",
       "      <td>228.000000</td>\n",
       "      <td>45.600000</td>\n",
       "    </tr>\n",
       "    <tr>\n",
       "      <th>max</th>\n",
       "      <td>76.000000</td>\n",
       "      <td>79.000000</td>\n",
       "      <td>84.000000</td>\n",
       "      <td>68.000000</td>\n",
       "      <td>87.00000</td>\n",
       "      <td>248.000000</td>\n",
       "      <td>49.600000</td>\n",
       "    </tr>\n",
       "  </tbody>\n",
       "</table>\n",
       "</div>"
      ],
      "text/plain": [
       "          python        dsa       dbms       ooad       stb       total  \\\n",
       "count   5.000000   5.000000   5.000000   5.000000   5.00000    5.000000   \n",
       "mean   33.400000  38.800000  55.200000  25.800000  48.20000  201.400000   \n",
       "std    26.613906  33.237028  30.152943  24.386472  34.86689   38.240031   \n",
       "min     5.000000  12.000000   6.000000   9.000000   1.00000  161.000000   \n",
       "25%    20.000000  14.000000  50.000000  11.000000  28.00000  165.000000   \n",
       "50%    29.000000  18.000000  64.000000  16.000000  50.00000  205.000000   \n",
       "75%    37.000000  71.000000  72.000000  25.000000  75.00000  228.000000   \n",
       "max    76.000000  79.000000  84.000000  68.000000  87.00000  248.000000   \n",
       "\n",
       "       percentage  \n",
       "count    5.000000  \n",
       "mean    40.280000  \n",
       "std      7.648006  \n",
       "min     32.200000  \n",
       "25%     33.000000  \n",
       "50%     41.000000  \n",
       "75%     45.600000  \n",
       "max     49.600000  "
      ]
     },
     "execution_count": 42,
     "metadata": {},
     "output_type": "execute_result"
    }
   ],
   "source": [
    "#Question 16\n",
    "result.describe()"
   ]
  },
  {
   "cell_type": "code",
   "execution_count": 43,
   "id": "3783df96-9623-4ddb-b14e-c8001fdb9f0a",
   "metadata": {},
   "outputs": [],
   "source": [
    "result.to_json('result.json')"
   ]
  },
  {
   "cell_type": "code",
   "execution_count": 45,
   "id": "2cfad76c-6c7e-44f4-9274-c52e9efd26d2",
   "metadata": {},
   "outputs": [],
   "source": [
    "result.to_html('result.html')"
   ]
  },
  {
   "cell_type": "code",
   "execution_count": 46,
   "id": "b35bfd2a-6ddc-4977-8237-1bfb8f4265de",
   "metadata": {},
   "outputs": [
    {
     "data": {
      "text/plain": [
       "python          int32\n",
       "dsa             int32\n",
       "dbms            int32\n",
       "ooad            int32\n",
       "stb             int32\n",
       "total           int32\n",
       "percentage    float64\n",
       "result         object\n",
       "dtype: object"
      ]
     },
     "execution_count": 46,
     "metadata": {},
     "output_type": "execute_result"
    }
   ],
   "source": [
    "# Question 17\n",
    "result.dtypes"
   ]
  },
  {
   "cell_type": "code",
   "execution_count": 47,
   "id": "cb8370cf-87fd-4e8f-92c5-27e200867509",
   "metadata": {},
   "outputs": [
    {
     "data": {
      "text/plain": [
       "{'python': [37, 5, 76, 20, 29],\n",
       " 'dsa': [12, 79, 71, 18, 14],\n",
       " 'dbms': [72, 64, 6, 84, 50],\n",
       " 'ooad': [9, 16, 25, 11, 68],\n",
       " 'stb': [75, 1, 50, 28, 87],\n",
       " 'total': [205, 165, 228, 161, 248],\n",
       " 'percentage': [41.0, 33.0, 45.6, 32.2, 49.6],\n",
       " 'result': ['pass', 'fail', 'pass', 'fail', 'pass']}"
      ]
     },
     "execution_count": 47,
     "metadata": {},
     "output_type": "execute_result"
    }
   ],
   "source": [
    "# Question 18\n",
    "result.to_dict (orient = 'list')"
   ]
  },
  {
   "cell_type": "code",
   "execution_count": null,
   "id": "cebfaa03-36ad-439c-ab95-59f80dc1dba3",
   "metadata": {},
   "outputs": [],
   "source": []
  }
 ],
 "metadata": {
  "kernelspec": {
   "display_name": "Python 3 (ipykernel)",
   "language": "python",
   "name": "python3"
  },
  "language_info": {
   "codemirror_mode": {
    "name": "ipython",
    "version": 3
   },
   "file_extension": ".py",
   "mimetype": "text/x-python",
   "name": "python",
   "nbconvert_exporter": "python",
   "pygments_lexer": "ipython3",
   "version": "3.11.5"
  }
 },
 "nbformat": 4,
 "nbformat_minor": 5
}
